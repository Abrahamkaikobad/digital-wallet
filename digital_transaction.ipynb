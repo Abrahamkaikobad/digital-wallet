{
 "cells": [
  {
   "cell_type": "code",
   "execution_count": 1,
   "metadata": {},
   "outputs": [],
   "source": [
    "import pandas as pd \n",
    "import numpy as np \n",
    "import matplotlib.pyplot as plt \n",
    "import seaborn as sns "
   ]
  },
  {
   "cell_type": "code",
   "execution_count": 2,
   "metadata": {},
   "outputs": [],
   "source": [
    "transaction=pd.read_csv('digital_wallet_transactions.csv')\n"
   ]
  },
  {
   "cell_type": "code",
   "execution_count": null,
   "metadata": {
    "vscode": {
     "languageId": "markdown"
    }
   },
   "outputs": [],
   "source": []
  },
  {
   "cell_type": "code",
   "execution_count": 3,
   "metadata": {},
   "outputs": [
    {
     "data": {
      "text/html": [
       "<div>\n",
       "<style scoped>\n",
       "    .dataframe tbody tr th:only-of-type {\n",
       "        vertical-align: middle;\n",
       "    }\n",
       "\n",
       "    .dataframe tbody tr th {\n",
       "        vertical-align: top;\n",
       "    }\n",
       "\n",
       "    .dataframe thead th {\n",
       "        text-align: right;\n",
       "    }\n",
       "</style>\n",
       "<table border=\"1\" class=\"dataframe\">\n",
       "  <thead>\n",
       "    <tr style=\"text-align: right;\">\n",
       "      <th></th>\n",
       "      <th>idx</th>\n",
       "      <th>transaction_id</th>\n",
       "      <th>user_id</th>\n",
       "      <th>transaction_date</th>\n",
       "      <th>product_category</th>\n",
       "      <th>product_name</th>\n",
       "      <th>merchant_name</th>\n",
       "      <th>product_amount</th>\n",
       "      <th>transaction_fee</th>\n",
       "      <th>cashback</th>\n",
       "      <th>loyalty_points</th>\n",
       "      <th>payment_method</th>\n",
       "      <th>transaction_status</th>\n",
       "      <th>merchant_id</th>\n",
       "      <th>device_type</th>\n",
       "      <th>location</th>\n",
       "    </tr>\n",
       "  </thead>\n",
       "  <tbody>\n",
       "    <tr>\n",
       "      <th>0</th>\n",
       "      <td>1</td>\n",
       "      <td>4dac3ea3-6492-46ec-80b8-dc45c3ad0b14</td>\n",
       "      <td>USER_05159</td>\n",
       "      <td>2023-08-19 03:32</td>\n",
       "      <td>Rent Payment</td>\n",
       "      <td>2BHK Flat Deposit</td>\n",
       "      <td>Airbnb</td>\n",
       "      <td>1525.39</td>\n",
       "      <td>36.69</td>\n",
       "      <td>19.19</td>\n",
       "      <td>186</td>\n",
       "      <td>Debit Card</td>\n",
       "      <td>Successful</td>\n",
       "      <td>MERCH_0083</td>\n",
       "      <td>iOS</td>\n",
       "      <td>Urban</td>\n",
       "    </tr>\n",
       "    <tr>\n",
       "      <th>1</th>\n",
       "      <td>2</td>\n",
       "      <td>a903ed9f-eb84-47e7-b8aa-fd1786c919cf</td>\n",
       "      <td>USER_07204</td>\n",
       "      <td>2023-08-19 04:37</td>\n",
       "      <td>Gas Bill</td>\n",
       "      <td>Commercial Gas Connection</td>\n",
       "      <td>Adani Gas</td>\n",
       "      <td>1495.40</td>\n",
       "      <td>28.19</td>\n",
       "      <td>89.99</td>\n",
       "      <td>182</td>\n",
       "      <td>UPI</td>\n",
       "      <td>Successful</td>\n",
       "      <td>MERCH_0163</td>\n",
       "      <td>iOS</td>\n",
       "      <td>Urban</td>\n",
       "    </tr>\n",
       "  </tbody>\n",
       "</table>\n",
       "</div>"
      ],
      "text/plain": [
       "   idx                        transaction_id     user_id  transaction_date  \\\n",
       "0    1  4dac3ea3-6492-46ec-80b8-dc45c3ad0b14  USER_05159  2023-08-19 03:32   \n",
       "1    2  a903ed9f-eb84-47e7-b8aa-fd1786c919cf  USER_07204  2023-08-19 04:37   \n",
       "\n",
       "  product_category               product_name merchant_name  product_amount  \\\n",
       "0     Rent Payment          2BHK Flat Deposit        Airbnb         1525.39   \n",
       "1         Gas Bill  Commercial Gas Connection     Adani Gas         1495.40   \n",
       "\n",
       "   transaction_fee  cashback  loyalty_points payment_method  \\\n",
       "0            36.69     19.19             186     Debit Card   \n",
       "1            28.19     89.99             182            UPI   \n",
       "\n",
       "  transaction_status merchant_id device_type location  \n",
       "0         Successful  MERCH_0083         iOS    Urban  \n",
       "1         Successful  MERCH_0163         iOS    Urban  "
      ]
     },
     "execution_count": 3,
     "metadata": {},
     "output_type": "execute_result"
    }
   ],
   "source": [
    "transaction.head(2)"
   ]
  },
  {
   "cell_type": "code",
   "execution_count": 4,
   "metadata": {},
   "outputs": [
    {
     "data": {
      "text/plain": [
       "(5000, 16)"
      ]
     },
     "execution_count": 4,
     "metadata": {},
     "output_type": "execute_result"
    }
   ],
   "source": [
    "transaction.shape"
   ]
  },
  {
   "cell_type": "markdown",
   "metadata": {},
   "source": [
    "# Digital Wallet Transactions Dataset"
   ]
  },
  {
   "cell_type": "markdown",
   "metadata": {},
   "source": [
    "## Overview\n",
    "This dataset simulates transactions from a digital wallet platform similar to popular services like PayTm in India or Khalti in Nepal. It contains 5000 synthetic records of various financial transactions across multiple categories, providing a rich source for analysis of digital payment behaviors and trends.\n",
    "\n",
    "## Dataset Description\n",
    "The dataset includes the following features:\n",
    "\n",
    "- **idx**: Unique index for each record\n",
    "- **transaction_id**: Unique identifier for each transaction (UUID)\n",
    "- **user_id**: Unique identifier for each user\n",
    "- **transaction_date**: Date and time of the transaction\n",
    "- **product_category**: Category of the product or service\n",
    "- **product_name**: Specific product or service name\n",
    "- **merchant_name**: Name of the merchant or service provider\n",
    "- **product_amount**: Transaction amount in local currency\n",
    "- **transaction_fee**: Fee charged for the transaction\n",
    "- **cashback**: Cashback amount received for the transaction\n",
    "- **loyalty_points**: Loyalty points earned from the transaction\n",
    "- **payment_method**: Method used for payment\n",
    "- **transaction_status**: Status of the transaction (Successful, Failed, Pending)\n",
    "- **merchant_id**: Unique identifier for each merchant\n",
    "- **device_type**: Type of device used for the transaction\n",
    "- **location**: Broad location category of the transaction\n",
    "\n",
    "## Key Features\n",
    "\n",
    "- Realistic product and service names across various categories\n",
    "- Dynamic transaction dates spanning the last year\n",
    "- Variety of payment methods and transaction statuses\n",
    "- Inclusion of cashback and loyalty points to reflect modern digital wallet features\n",
    "\n",
    "## Potential Use Cases\n",
    "\n",
    "- Analyzing spending patterns across different product categories\n",
    "- Studying the effectiveness of cashback and loyalty programs\n",
    "- Investigating the relationship between payment methods and transaction success rates\n",
    "- Exploring seasonal trends in digital wallet usage\n",
    "- Developing fraud detection models based on transaction patterns\n",
    "- Segmenting users based on their spending behavior\n",
    "- Analyzing the popularity of different merchants and services\n",
    "\n",
    "## Notes\n",
    "\n",
    "This is a synthetic dataset created for educational and analytical purposes.\n",
    "While it aims to mimic real-world patterns, it does not represent actual transactions or real individuals.\n",
    "The dataset can be used for various data science projects, including but not limited to exploratory data analysis, machine learning model development, and data visualization exercises."
   ]
  },
  {
   "cell_type": "markdown",
   "metadata": {},
   "source": [
    "# Insight Dataset"
   ]
  },
  {
   "cell_type": "code",
   "execution_count": 5,
   "metadata": {},
   "outputs": [
    {
     "name": "stdout",
     "output_type": "stream",
     "text": [
      "<class 'pandas.core.frame.DataFrame'>\n",
      "RangeIndex: 5000 entries, 0 to 4999\n",
      "Data columns (total 16 columns):\n",
      " #   Column              Non-Null Count  Dtype  \n",
      "---  ------              --------------  -----  \n",
      " 0   idx                 5000 non-null   int64  \n",
      " 1   transaction_id      5000 non-null   object \n",
      " 2   user_id             5000 non-null   object \n",
      " 3   transaction_date    5000 non-null   object \n",
      " 4   product_category    5000 non-null   object \n",
      " 5   product_name        5000 non-null   object \n",
      " 6   merchant_name       5000 non-null   object \n",
      " 7   product_amount      5000 non-null   float64\n",
      " 8   transaction_fee     5000 non-null   float64\n",
      " 9   cashback            5000 non-null   float64\n",
      " 10  loyalty_points      5000 non-null   int64  \n",
      " 11  payment_method      5000 non-null   object \n",
      " 12  transaction_status  5000 non-null   object \n",
      " 13  merchant_id         5000 non-null   object \n",
      " 14  device_type         5000 non-null   object \n",
      " 15  location            5000 non-null   object \n",
      "dtypes: float64(3), int64(2), object(11)\n",
      "memory usage: 625.1+ KB\n"
     ]
    }
   ],
   "source": [
    "transaction.info()"
   ]
  },
  {
   "cell_type": "code",
   "execution_count": 6,
   "metadata": {},
   "outputs": [],
   "source": [
    "transaction.drop(columns=['idx'],inplace=True)"
   ]
  },
  {
   "cell_type": "code",
   "execution_count": 7,
   "metadata": {},
   "outputs": [],
   "source": [
    "dataset=pd.DataFrame({'dtype':transaction.dtypes,'missing':transaction.isnull().sum(),'duplicate':transaction.duplicated().sum(),'unique':transaction.nunique()})"
   ]
  },
  {
   "cell_type": "code",
   "execution_count": 8,
   "metadata": {},
   "outputs": [
    {
     "data": {
      "text/html": [
       "<div>\n",
       "<style scoped>\n",
       "    .dataframe tbody tr th:only-of-type {\n",
       "        vertical-align: middle;\n",
       "    }\n",
       "\n",
       "    .dataframe tbody tr th {\n",
       "        vertical-align: top;\n",
       "    }\n",
       "\n",
       "    .dataframe thead th {\n",
       "        text-align: right;\n",
       "    }\n",
       "</style>\n",
       "<table border=\"1\" class=\"dataframe\">\n",
       "  <thead>\n",
       "    <tr style=\"text-align: right;\">\n",
       "      <th></th>\n",
       "      <th>dtype</th>\n",
       "      <th>missing</th>\n",
       "      <th>duplicate</th>\n",
       "      <th>unique</th>\n",
       "    </tr>\n",
       "  </thead>\n",
       "  <tbody>\n",
       "    <tr>\n",
       "      <th>transaction_id</th>\n",
       "      <td>object</td>\n",
       "      <td>0</td>\n",
       "      <td>0</td>\n",
       "      <td>5000</td>\n",
       "    </tr>\n",
       "    <tr>\n",
       "      <th>user_id</th>\n",
       "      <td>object</td>\n",
       "      <td>0</td>\n",
       "      <td>0</td>\n",
       "      <td>3932</td>\n",
       "    </tr>\n",
       "    <tr>\n",
       "      <th>transaction_date</th>\n",
       "      <td>object</td>\n",
       "      <td>0</td>\n",
       "      <td>0</td>\n",
       "      <td>4978</td>\n",
       "    </tr>\n",
       "    <tr>\n",
       "      <th>product_category</th>\n",
       "      <td>object</td>\n",
       "      <td>0</td>\n",
       "      <td>0</td>\n",
       "      <td>20</td>\n",
       "    </tr>\n",
       "    <tr>\n",
       "      <th>product_name</th>\n",
       "      <td>object</td>\n",
       "      <td>0</td>\n",
       "      <td>0</td>\n",
       "      <td>100</td>\n",
       "    </tr>\n",
       "    <tr>\n",
       "      <th>merchant_name</th>\n",
       "      <td>object</td>\n",
       "      <td>0</td>\n",
       "      <td>0</td>\n",
       "      <td>97</td>\n",
       "    </tr>\n",
       "    <tr>\n",
       "      <th>product_amount</th>\n",
       "      <td>float64</td>\n",
       "      <td>0</td>\n",
       "      <td>0</td>\n",
       "      <td>4990</td>\n",
       "    </tr>\n",
       "    <tr>\n",
       "      <th>transaction_fee</th>\n",
       "      <td>float64</td>\n",
       "      <td>0</td>\n",
       "      <td>0</td>\n",
       "      <td>3175</td>\n",
       "    </tr>\n",
       "    <tr>\n",
       "      <th>cashback</th>\n",
       "      <td>float64</td>\n",
       "      <td>0</td>\n",
       "      <td>0</td>\n",
       "      <td>3959</td>\n",
       "    </tr>\n",
       "    <tr>\n",
       "      <th>loyalty_points</th>\n",
       "      <td>int64</td>\n",
       "      <td>0</td>\n",
       "      <td>0</td>\n",
       "      <td>995</td>\n",
       "    </tr>\n",
       "    <tr>\n",
       "      <th>payment_method</th>\n",
       "      <td>object</td>\n",
       "      <td>0</td>\n",
       "      <td>0</td>\n",
       "      <td>5</td>\n",
       "    </tr>\n",
       "    <tr>\n",
       "      <th>transaction_status</th>\n",
       "      <td>object</td>\n",
       "      <td>0</td>\n",
       "      <td>0</td>\n",
       "      <td>3</td>\n",
       "    </tr>\n",
       "    <tr>\n",
       "      <th>merchant_id</th>\n",
       "      <td>object</td>\n",
       "      <td>0</td>\n",
       "      <td>0</td>\n",
       "      <td>987</td>\n",
       "    </tr>\n",
       "    <tr>\n",
       "      <th>device_type</th>\n",
       "      <td>object</td>\n",
       "      <td>0</td>\n",
       "      <td>0</td>\n",
       "      <td>3</td>\n",
       "    </tr>\n",
       "    <tr>\n",
       "      <th>location</th>\n",
       "      <td>object</td>\n",
       "      <td>0</td>\n",
       "      <td>0</td>\n",
       "      <td>3</td>\n",
       "    </tr>\n",
       "  </tbody>\n",
       "</table>\n",
       "</div>"
      ],
      "text/plain": [
       "                      dtype  missing  duplicate  unique\n",
       "transaction_id       object        0          0    5000\n",
       "user_id              object        0          0    3932\n",
       "transaction_date     object        0          0    4978\n",
       "product_category     object        0          0      20\n",
       "product_name         object        0          0     100\n",
       "merchant_name        object        0          0      97\n",
       "product_amount      float64        0          0    4990\n",
       "transaction_fee     float64        0          0    3175\n",
       "cashback            float64        0          0    3959\n",
       "loyalty_points        int64        0          0     995\n",
       "payment_method       object        0          0       5\n",
       "transaction_status   object        0          0       3\n",
       "merchant_id          object        0          0     987\n",
       "device_type          object        0          0       3\n",
       "location             object        0          0       3"
      ]
     },
     "execution_count": 8,
     "metadata": {},
     "output_type": "execute_result"
    }
   ],
   "source": [
    "dataset"
   ]
  },
  {
   "cell_type": "code",
   "execution_count": 9,
   "metadata": {},
   "outputs": [
    {
     "data": {
      "text/html": [
       "<div>\n",
       "<style scoped>\n",
       "    .dataframe tbody tr th:only-of-type {\n",
       "        vertical-align: middle;\n",
       "    }\n",
       "\n",
       "    .dataframe tbody tr th {\n",
       "        vertical-align: top;\n",
       "    }\n",
       "\n",
       "    .dataframe thead th {\n",
       "        text-align: right;\n",
       "    }\n",
       "</style>\n",
       "<table border=\"1\" class=\"dataframe\">\n",
       "  <thead>\n",
       "    <tr style=\"text-align: right;\">\n",
       "      <th></th>\n",
       "      <th>dtype</th>\n",
       "      <th>missing</th>\n",
       "      <th>duplicate</th>\n",
       "      <th>unique</th>\n",
       "    </tr>\n",
       "  </thead>\n",
       "  <tbody>\n",
       "    <tr>\n",
       "      <th>transaction_id</th>\n",
       "      <td>object</td>\n",
       "      <td>0</td>\n",
       "      <td>0</td>\n",
       "      <td>5000</td>\n",
       "    </tr>\n",
       "    <tr>\n",
       "      <th>product_amount</th>\n",
       "      <td>float64</td>\n",
       "      <td>0</td>\n",
       "      <td>0</td>\n",
       "      <td>4990</td>\n",
       "    </tr>\n",
       "    <tr>\n",
       "      <th>transaction_date</th>\n",
       "      <td>object</td>\n",
       "      <td>0</td>\n",
       "      <td>0</td>\n",
       "      <td>4978</td>\n",
       "    </tr>\n",
       "    <tr>\n",
       "      <th>cashback</th>\n",
       "      <td>float64</td>\n",
       "      <td>0</td>\n",
       "      <td>0</td>\n",
       "      <td>3959</td>\n",
       "    </tr>\n",
       "    <tr>\n",
       "      <th>user_id</th>\n",
       "      <td>object</td>\n",
       "      <td>0</td>\n",
       "      <td>0</td>\n",
       "      <td>3932</td>\n",
       "    </tr>\n",
       "    <tr>\n",
       "      <th>transaction_fee</th>\n",
       "      <td>float64</td>\n",
       "      <td>0</td>\n",
       "      <td>0</td>\n",
       "      <td>3175</td>\n",
       "    </tr>\n",
       "    <tr>\n",
       "      <th>loyalty_points</th>\n",
       "      <td>int64</td>\n",
       "      <td>0</td>\n",
       "      <td>0</td>\n",
       "      <td>995</td>\n",
       "    </tr>\n",
       "    <tr>\n",
       "      <th>merchant_id</th>\n",
       "      <td>object</td>\n",
       "      <td>0</td>\n",
       "      <td>0</td>\n",
       "      <td>987</td>\n",
       "    </tr>\n",
       "    <tr>\n",
       "      <th>product_name</th>\n",
       "      <td>object</td>\n",
       "      <td>0</td>\n",
       "      <td>0</td>\n",
       "      <td>100</td>\n",
       "    </tr>\n",
       "    <tr>\n",
       "      <th>merchant_name</th>\n",
       "      <td>object</td>\n",
       "      <td>0</td>\n",
       "      <td>0</td>\n",
       "      <td>97</td>\n",
       "    </tr>\n",
       "    <tr>\n",
       "      <th>product_category</th>\n",
       "      <td>object</td>\n",
       "      <td>0</td>\n",
       "      <td>0</td>\n",
       "      <td>20</td>\n",
       "    </tr>\n",
       "    <tr>\n",
       "      <th>payment_method</th>\n",
       "      <td>object</td>\n",
       "      <td>0</td>\n",
       "      <td>0</td>\n",
       "      <td>5</td>\n",
       "    </tr>\n",
       "    <tr>\n",
       "      <th>transaction_status</th>\n",
       "      <td>object</td>\n",
       "      <td>0</td>\n",
       "      <td>0</td>\n",
       "      <td>3</td>\n",
       "    </tr>\n",
       "    <tr>\n",
       "      <th>device_type</th>\n",
       "      <td>object</td>\n",
       "      <td>0</td>\n",
       "      <td>0</td>\n",
       "      <td>3</td>\n",
       "    </tr>\n",
       "    <tr>\n",
       "      <th>location</th>\n",
       "      <td>object</td>\n",
       "      <td>0</td>\n",
       "      <td>0</td>\n",
       "      <td>3</td>\n",
       "    </tr>\n",
       "  </tbody>\n",
       "</table>\n",
       "</div>"
      ],
      "text/plain": [
       "                      dtype  missing  duplicate  unique\n",
       "transaction_id       object        0          0    5000\n",
       "product_amount      float64        0          0    4990\n",
       "transaction_date     object        0          0    4978\n",
       "cashback            float64        0          0    3959\n",
       "user_id              object        0          0    3932\n",
       "transaction_fee     float64        0          0    3175\n",
       "loyalty_points        int64        0          0     995\n",
       "merchant_id          object        0          0     987\n",
       "product_name         object        0          0     100\n",
       "merchant_name        object        0          0      97\n",
       "product_category     object        0          0      20\n",
       "payment_method       object        0          0       5\n",
       "transaction_status   object        0          0       3\n",
       "device_type          object        0          0       3\n",
       "location             object        0          0       3"
      ]
     },
     "execution_count": 9,
     "metadata": {},
     "output_type": "execute_result"
    }
   ],
   "source": [
    "dataset.sort_values(by='unique',ascending=False)"
   ]
  },
  {
   "cell_type": "code",
   "execution_count": 10,
   "metadata": {},
   "outputs": [
    {
     "data": {
      "text/html": [
       "<div>\n",
       "<style scoped>\n",
       "    .dataframe tbody tr th:only-of-type {\n",
       "        vertical-align: middle;\n",
       "    }\n",
       "\n",
       "    .dataframe tbody tr th {\n",
       "        vertical-align: top;\n",
       "    }\n",
       "\n",
       "    .dataframe thead th {\n",
       "        text-align: right;\n",
       "    }\n",
       "</style>\n",
       "<table border=\"1\" class=\"dataframe\">\n",
       "  <thead>\n",
       "    <tr style=\"text-align: right;\">\n",
       "      <th></th>\n",
       "      <th>transaction_id</th>\n",
       "      <th>user_id</th>\n",
       "      <th>transaction_date</th>\n",
       "      <th>product_category</th>\n",
       "      <th>product_name</th>\n",
       "      <th>merchant_name</th>\n",
       "      <th>payment_method</th>\n",
       "      <th>transaction_status</th>\n",
       "      <th>merchant_id</th>\n",
       "      <th>device_type</th>\n",
       "      <th>location</th>\n",
       "    </tr>\n",
       "  </thead>\n",
       "  <tbody>\n",
       "    <tr>\n",
       "      <th>count</th>\n",
       "      <td>5000</td>\n",
       "      <td>5000</td>\n",
       "      <td>5000</td>\n",
       "      <td>5000</td>\n",
       "      <td>5000</td>\n",
       "      <td>5000</td>\n",
       "      <td>5000</td>\n",
       "      <td>5000</td>\n",
       "      <td>5000</td>\n",
       "      <td>5000</td>\n",
       "      <td>5000</td>\n",
       "    </tr>\n",
       "    <tr>\n",
       "      <th>unique</th>\n",
       "      <td>5000</td>\n",
       "      <td>3932</td>\n",
       "      <td>4978</td>\n",
       "      <td>20</td>\n",
       "      <td>100</td>\n",
       "      <td>97</td>\n",
       "      <td>5</td>\n",
       "      <td>3</td>\n",
       "      <td>987</td>\n",
       "      <td>3</td>\n",
       "      <td>3</td>\n",
       "    </tr>\n",
       "    <tr>\n",
       "      <th>top</th>\n",
       "      <td>4dac3ea3-6492-46ec-80b8-dc45c3ad0b14</td>\n",
       "      <td>USER_05939</td>\n",
       "      <td>2024-06-20 11:13</td>\n",
       "      <td>Streaming Service</td>\n",
       "      <td>Python Programming Course</td>\n",
       "      <td>Airbnb</td>\n",
       "      <td>Bank Transfer</td>\n",
       "      <td>Successful</td>\n",
       "      <td>MERCH_0376</td>\n",
       "      <td>Android</td>\n",
       "      <td>Urban</td>\n",
       "    </tr>\n",
       "    <tr>\n",
       "      <th>freq</th>\n",
       "      <td>1</td>\n",
       "      <td>4</td>\n",
       "      <td>2</td>\n",
       "      <td>299</td>\n",
       "      <td>80</td>\n",
       "      <td>106</td>\n",
       "      <td>1045</td>\n",
       "      <td>4755</td>\n",
       "      <td>14</td>\n",
       "      <td>2995</td>\n",
       "      <td>3485</td>\n",
       "    </tr>\n",
       "  </tbody>\n",
       "</table>\n",
       "</div>"
      ],
      "text/plain": [
       "                              transaction_id     user_id  transaction_date  \\\n",
       "count                                   5000        5000              5000   \n",
       "unique                                  5000        3932              4978   \n",
       "top     4dac3ea3-6492-46ec-80b8-dc45c3ad0b14  USER_05939  2024-06-20 11:13   \n",
       "freq                                       1           4                 2   \n",
       "\n",
       "         product_category               product_name merchant_name  \\\n",
       "count                5000                       5000          5000   \n",
       "unique                 20                        100            97   \n",
       "top     Streaming Service  Python Programming Course        Airbnb   \n",
       "freq                  299                         80           106   \n",
       "\n",
       "       payment_method transaction_status merchant_id device_type location  \n",
       "count            5000               5000        5000        5000     5000  \n",
       "unique              5                  3         987           3        3  \n",
       "top     Bank Transfer         Successful  MERCH_0376     Android    Urban  \n",
       "freq             1045               4755          14        2995     3485  "
      ]
     },
     "execution_count": 10,
     "metadata": {},
     "output_type": "execute_result"
    }
   ],
   "source": [
    "transaction.describe(include=['object'])"
   ]
  },
  {
   "cell_type": "code",
   "execution_count": 11,
   "metadata": {},
   "outputs": [
    {
     "data": {
      "text/html": [
       "<div>\n",
       "<style scoped>\n",
       "    .dataframe tbody tr th:only-of-type {\n",
       "        vertical-align: middle;\n",
       "    }\n",
       "\n",
       "    .dataframe tbody tr th {\n",
       "        vertical-align: top;\n",
       "    }\n",
       "\n",
       "    .dataframe thead th {\n",
       "        text-align: right;\n",
       "    }\n",
       "</style>\n",
       "<table border=\"1\" class=\"dataframe\">\n",
       "  <thead>\n",
       "    <tr style=\"text-align: right;\">\n",
       "      <th></th>\n",
       "      <th>product_amount</th>\n",
       "      <th>transaction_fee</th>\n",
       "      <th>cashback</th>\n",
       "      <th>loyalty_points</th>\n",
       "    </tr>\n",
       "  </thead>\n",
       "  <tbody>\n",
       "    <tr>\n",
       "      <th>count</th>\n",
       "      <td>5000.000000</td>\n",
       "      <td>5000.000000</td>\n",
       "      <td>5000.000000</td>\n",
       "      <td>5000.000000</td>\n",
       "    </tr>\n",
       "    <tr>\n",
       "      <th>mean</th>\n",
       "      <td>4957.502722</td>\n",
       "      <td>25.188874</td>\n",
       "      <td>50.658782</td>\n",
       "      <td>498.790400</td>\n",
       "    </tr>\n",
       "    <tr>\n",
       "      <th>std</th>\n",
       "      <td>2885.034160</td>\n",
       "      <td>14.535298</td>\n",
       "      <td>28.522467</td>\n",
       "      <td>288.962434</td>\n",
       "    </tr>\n",
       "    <tr>\n",
       "      <th>min</th>\n",
       "      <td>10.090000</td>\n",
       "      <td>0.010000</td>\n",
       "      <td>0.000000</td>\n",
       "      <td>0.000000</td>\n",
       "    </tr>\n",
       "    <tr>\n",
       "      <th>25%</th>\n",
       "      <td>2453.977500</td>\n",
       "      <td>12.665000</td>\n",
       "      <td>26.495000</td>\n",
       "      <td>246.000000</td>\n",
       "    </tr>\n",
       "    <tr>\n",
       "      <th>50%</th>\n",
       "      <td>4943.685000</td>\n",
       "      <td>25.070000</td>\n",
       "      <td>51.390000</td>\n",
       "      <td>504.000000</td>\n",
       "    </tr>\n",
       "    <tr>\n",
       "      <th>75%</th>\n",
       "      <td>7444.815000</td>\n",
       "      <td>37.947500</td>\n",
       "      <td>75.067500</td>\n",
       "      <td>749.000000</td>\n",
       "    </tr>\n",
       "    <tr>\n",
       "      <th>max</th>\n",
       "      <td>9996.950000</td>\n",
       "      <td>49.990000</td>\n",
       "      <td>100.000000</td>\n",
       "      <td>999.000000</td>\n",
       "    </tr>\n",
       "  </tbody>\n",
       "</table>\n",
       "</div>"
      ],
      "text/plain": [
       "       product_amount  transaction_fee     cashback  loyalty_points\n",
       "count     5000.000000      5000.000000  5000.000000     5000.000000\n",
       "mean      4957.502722        25.188874    50.658782      498.790400\n",
       "std       2885.034160        14.535298    28.522467      288.962434\n",
       "min         10.090000         0.010000     0.000000        0.000000\n",
       "25%       2453.977500        12.665000    26.495000      246.000000\n",
       "50%       4943.685000        25.070000    51.390000      504.000000\n",
       "75%       7444.815000        37.947500    75.067500      749.000000\n",
       "max       9996.950000        49.990000   100.000000      999.000000"
      ]
     },
     "execution_count": 11,
     "metadata": {},
     "output_type": "execute_result"
    }
   ],
   "source": [
    "transaction.describe(include=['int64','float64'])"
   ]
  },
  {
   "cell_type": "code",
   "execution_count": 12,
   "metadata": {},
   "outputs": [
    {
     "data": {
      "image/png": "[encoded data removed]",
      "text/plain": [
       "<Figure size 1500x500 with 3 Axes>"
      ]
     },
     "metadata": {},
     "output_type": "display_data"
    }
   ],
   "source": [
    "fig,ax=plt.subplots(1,3,figsize=(15,5))\n",
    "transaction['product_category'].value_counts().sort_values(ascending=False).plot(kind='bar',color='skyblue',ax=ax[0])\n",
    "transaction['payment_method'].value_counts().sort_values(ascending=False).plot(kind='bar',color='skyblue',ax=ax[1])\n",
    "transaction['transaction_status'].value_counts().sort_values(ascending=False).plot(kind='bar',color='skyblue',ax=ax[2])\n",
    "plt.show()"
   ]
  },
  {
   "cell_type": "code",
   "execution_count": 13,
   "metadata": {},
   "outputs": [
    {
     "data": {
      "image/png": "[encoded data removed]",
      "text/plain": [
       "<Figure size 1500x500 with 2 Axes>"
      ]
     },
     "metadata": {},
     "output_type": "display_data"
    }
   ],
   "source": [
    "fig,ax=plt.subplots(1,2,figsize=(15,5))\n",
    "transaction['device_type'].value_counts().sort_values(ascending=False).plot(kind='bar',color='skyblue',ax=ax[0])\n",
    "transaction['location'].value_counts().sort_values(ascending=False).plot(kind='bar',color='skyblue',ax=ax[1])\n",
    "\n",
    "ax[0].set_xticklabels(ax[0].get_xticklabels(),rotation=0)\n",
    "ax[1].set_xticklabels(ax[1].get_xticklabels(),rotation=0)\n",
    "plt.show()\n"
   ]
  },
  {
   "cell_type": "code",
   "execution_count": 14,
   "metadata": {},
   "outputs": [
    {
     "data": {
      "image/png": "[encoded data removed]",
      "text/plain": [
       "<Figure size 1500x500 with 4 Axes>"
      ]
     },
     "metadata": {},
     "output_type": "display_data"
    }
   ],
   "source": [
    "fig,ax=plt.subplots(2,2,figsize=(15,5))\n",
    "transaction['product_amount'].plot(kind='box',color='skyblue',ax=ax[0,0])\n",
    "transaction['transaction_fee'].plot(kind='box',color='skyblue',ax=ax[0,1])\n",
    "transaction['cashback'].plot(kind='box',color='skyblue',ax=ax[1,0])\n",
    "transaction['loyalty_points'].plot(kind='box',color='skyblue',ax=ax[1,1])\n",
    "plt.show()"
   ]
  },
  {
   "cell_type": "code",
   "execution_count": 15,
   "metadata": {},
   "outputs": [],
   "source": [
    "transaction['date']=pd.to_datetime(transaction['transaction_date']).dt.date\n",
    "transaction['time']=pd.to_datetime(transaction['transaction_date']).dt.time\n"
   ]
  },
  {
   "cell_type": "code",
   "execution_count": 16,
   "metadata": {},
   "outputs": [
    {
     "data": {
      "text/plain": [
       "Index(['transaction_id', 'user_id', 'transaction_date', 'product_category',\n",
       "       'product_name', 'merchant_name', 'product_amount', 'transaction_fee',\n",
       "       'cashback', 'loyalty_points', 'payment_method', 'transaction_status',\n",
       "       'merchant_id', 'device_type', 'location', 'date', 'time'],\n",
       "      dtype='object')"
      ]
     },
     "execution_count": 16,
     "metadata": {},
     "output_type": "execute_result"
    }
   ],
   "source": [
    "transaction.columns"
   ]
  },
  {
   "cell_type": "code",
   "execution_count": 17,
   "metadata": {},
   "outputs": [
    {
     "data": {
      "text/plain": [
       "transaction_id        a903ed9f-eb84-47e7-b8aa-fd1786c919cf\n",
       "user_id                                         USER_07204\n",
       "transaction_date                          2023-08-19 04:37\n",
       "product_category                                  Gas Bill\n",
       "product_name                     Commercial Gas Connection\n",
       "merchant_name                                    Adani Gas\n",
       "product_amount                                      1495.4\n",
       "transaction_fee                                      28.19\n",
       "cashback                                             89.99\n",
       "loyalty_points                                         182\n",
       "payment_method                                         UPI\n",
       "transaction_status                              Successful\n",
       "merchant_id                                     MERCH_0163\n",
       "device_type                                            iOS\n",
       "location                                             Urban\n",
       "date                                            2023-08-19\n",
       "time                                              04:37:00\n",
       "Name: 1, dtype: object"
      ]
     },
     "execution_count": 17,
     "metadata": {},
     "output_type": "execute_result"
    }
   ],
   "source": [
    "transaction.loc[1]"
   ]
  },
  {
   "cell_type": "code",
   "execution_count": 18,
   "metadata": {},
   "outputs": [
    {
     "data": {
      "text/plain": [
       "1433.6000000000001"
      ]
     },
     "execution_count": 18,
     "metadata": {},
     "output_type": "execute_result"
    }
   ],
   "source": [
    "x=1495.4 + 28.19 - 89.99\n",
    "x"
   ]
  },
  {
   "cell_type": "code",
   "execution_count": 19,
   "metadata": {},
   "outputs": [
    {
     "data": {
      "text/plain": [
       "Index(['transaction_id', 'user_id', 'transaction_date', 'product_category',\n",
       "       'product_name', 'merchant_name', 'product_amount', 'transaction_fee',\n",
       "       'cashback', 'loyalty_points', 'payment_method', 'transaction_status',\n",
       "       'merchant_id', 'device_type', 'location', 'date', 'time'],\n",
       "      dtype='object')"
      ]
     },
     "execution_count": 19,
     "metadata": {},
     "output_type": "execute_result"
    }
   ],
   "source": [
    "transaction.columns"
   ]
  },
  {
   "cell_type": "markdown",
   "metadata": {},
   "source": [
    "## Product Insights"
   ]
  },
  {
   "cell_type": "code",
   "execution_count": 20,
   "metadata": {},
   "outputs": [
    {
     "data": {
      "text/html": [
       "<div>\n",
       "<style scoped>\n",
       "    .dataframe tbody tr th:only-of-type {\n",
       "        vertical-align: middle;\n",
       "    }\n",
       "\n",
       "    .dataframe tbody tr th {\n",
       "        vertical-align: top;\n",
       "    }\n",
       "\n",
       "    .dataframe thead th {\n",
       "        text-align: right;\n",
       "    }\n",
       "</style>\n",
       "<table border=\"1\" class=\"dataframe\">\n",
       "  <thead>\n",
       "    <tr style=\"text-align: right;\">\n",
       "      <th></th>\n",
       "      <th>cashback</th>\n",
       "      <th>loyalty_points</th>\n",
       "      <th>product_amount</th>\n",
       "      <th>transaction_fee</th>\n",
       "    </tr>\n",
       "    <tr>\n",
       "      <th>product_category</th>\n",
       "      <th></th>\n",
       "      <th></th>\n",
       "      <th></th>\n",
       "      <th></th>\n",
       "    </tr>\n",
       "  </thead>\n",
       "  <tbody>\n",
       "    <tr>\n",
       "      <th>Streaming Service</th>\n",
       "      <td>15352.11</td>\n",
       "      <td>154187</td>\n",
       "      <td>1462461.66</td>\n",
       "      <td>7753.90</td>\n",
       "    </tr>\n",
       "    <tr>\n",
       "      <th>Water Bill</th>\n",
       "      <td>13820.73</td>\n",
       "      <td>137217</td>\n",
       "      <td>1400668.85</td>\n",
       "      <td>6582.45</td>\n",
       "    </tr>\n",
       "    <tr>\n",
       "      <th>Gas Bill</th>\n",
       "      <td>12182.66</td>\n",
       "      <td>119866</td>\n",
       "      <td>1361519.80</td>\n",
       "      <td>6494.41</td>\n",
       "    </tr>\n",
       "    <tr>\n",
       "      <th>Education Fee</th>\n",
       "      <td>14379.52</td>\n",
       "      <td>135073</td>\n",
       "      <td>1349321.77</td>\n",
       "      <td>7449.83</td>\n",
       "    </tr>\n",
       "    <tr>\n",
       "      <th>Movie Ticket</th>\n",
       "      <td>13814.25</td>\n",
       "      <td>127701</td>\n",
       "      <td>1337399.89</td>\n",
       "      <td>6169.85</td>\n",
       "    </tr>\n",
       "    <tr>\n",
       "      <th>Hotel Booking</th>\n",
       "      <td>13640.77</td>\n",
       "      <td>138772</td>\n",
       "      <td>1319603.90</td>\n",
       "      <td>6876.42</td>\n",
       "    </tr>\n",
       "    <tr>\n",
       "      <th>Food Delivery</th>\n",
       "      <td>13578.41</td>\n",
       "      <td>130077</td>\n",
       "      <td>1317106.21</td>\n",
       "      <td>6586.77</td>\n",
       "    </tr>\n",
       "    <tr>\n",
       "      <th>Taxi Fare</th>\n",
       "      <td>13251.58</td>\n",
       "      <td>131527</td>\n",
       "      <td>1306566.24</td>\n",
       "      <td>6622.40</td>\n",
       "    </tr>\n",
       "    <tr>\n",
       "      <th>Rent Payment</th>\n",
       "      <td>12995.94</td>\n",
       "      <td>126527</td>\n",
       "      <td>1258263.69</td>\n",
       "      <td>6284.75</td>\n",
       "    </tr>\n",
       "    <tr>\n",
       "      <th>Internet Bill</th>\n",
       "      <td>11750.79</td>\n",
       "      <td>111868</td>\n",
       "      <td>1247178.07</td>\n",
       "      <td>6003.90</td>\n",
       "    </tr>\n",
       "    <tr>\n",
       "      <th>Electricity Bill</th>\n",
       "      <td>13203.31</td>\n",
       "      <td>127312</td>\n",
       "      <td>1245972.74</td>\n",
       "      <td>6509.10</td>\n",
       "    </tr>\n",
       "    <tr>\n",
       "      <th>Loan Repayment</th>\n",
       "      <td>12004.71</td>\n",
       "      <td>125202</td>\n",
       "      <td>1210681.76</td>\n",
       "      <td>6302.64</td>\n",
       "    </tr>\n",
       "    <tr>\n",
       "      <th>Online Shopping</th>\n",
       "      <td>11996.26</td>\n",
       "      <td>120849</td>\n",
       "      <td>1207396.13</td>\n",
       "      <td>5904.64</td>\n",
       "    </tr>\n",
       "    <tr>\n",
       "      <th>Mobile Recharge</th>\n",
       "      <td>12221.59</td>\n",
       "      <td>119676</td>\n",
       "      <td>1196334.68</td>\n",
       "      <td>6008.04</td>\n",
       "    </tr>\n",
       "    <tr>\n",
       "      <th>Gaming Credits</th>\n",
       "      <td>11211.79</td>\n",
       "      <td>118792</td>\n",
       "      <td>1136665.44</td>\n",
       "      <td>5826.97</td>\n",
       "    </tr>\n",
       "    <tr>\n",
       "      <th>Grocery Shopping</th>\n",
       "      <td>12093.41</td>\n",
       "      <td>119898</td>\n",
       "      <td>1134972.71</td>\n",
       "      <td>6337.90</td>\n",
       "    </tr>\n",
       "    <tr>\n",
       "      <th>Flight Booking</th>\n",
       "      <td>11306.14</td>\n",
       "      <td>111801</td>\n",
       "      <td>1124283.05</td>\n",
       "      <td>5466.64</td>\n",
       "    </tr>\n",
       "    <tr>\n",
       "      <th>Bus Ticket</th>\n",
       "      <td>11849.50</td>\n",
       "      <td>115844</td>\n",
       "      <td>1115711.58</td>\n",
       "      <td>6034.09</td>\n",
       "    </tr>\n",
       "    <tr>\n",
       "      <th>Insurance Premium</th>\n",
       "      <td>11089.30</td>\n",
       "      <td>116995</td>\n",
       "      <td>1032608.99</td>\n",
       "      <td>5077.95</td>\n",
       "    </tr>\n",
       "    <tr>\n",
       "      <th>Gift Card</th>\n",
       "      <td>11551.14</td>\n",
       "      <td>104768</td>\n",
       "      <td>1022796.45</td>\n",
       "      <td>5651.72</td>\n",
       "    </tr>\n",
       "  </tbody>\n",
       "</table>\n",
       "</div>"
      ],
      "text/plain": [
       "                   cashback  loyalty_points  product_amount  transaction_fee\n",
       "product_category                                                            \n",
       "Streaming Service  15352.11          154187      1462461.66          7753.90\n",
       "Water Bill         13820.73          137217      1400668.85          6582.45\n",
       "Gas Bill           12182.66          119866      1361519.80          6494.41\n",
       "Education Fee      14379.52          135073      1349321.77          7449.83\n",
       "Movie Ticket       13814.25          127701      1337399.89          6169.85\n",
       "Hotel Booking      13640.77          138772      1319603.90          6876.42\n",
       "Food Delivery      13578.41          130077      1317106.21          6586.77\n",
       "Taxi Fare          13251.58          131527      1306566.24          6622.40\n",
       "Rent Payment       12995.94          126527      1258263.69          6284.75\n",
       "Internet Bill      11750.79          111868      1247178.07          6003.90\n",
       "Electricity Bill   13203.31          127312      1245972.74          6509.10\n",
       "Loan Repayment     12004.71          125202      1210681.76          6302.64\n",
       "Online Shopping    11996.26          120849      1207396.13          5904.64\n",
       "Mobile Recharge    12221.59          119676      1196334.68          6008.04\n",
       "Gaming Credits     11211.79          118792      1136665.44          5826.97\n",
       "Grocery Shopping   12093.41          119898      1134972.71          6337.90\n",
       "Flight Booking     11306.14          111801      1124283.05          5466.64\n",
       "Bus Ticket         11849.50          115844      1115711.58          6034.09\n",
       "Insurance Premium  11089.30          116995      1032608.99          5077.95\n",
       "Gift Card          11551.14          104768      1022796.45          5651.72"
      ]
     },
     "execution_count": 20,
     "metadata": {},
     "output_type": "execute_result"
    }
   ],
   "source": [
    "pd.pivot_table(transaction,index='product_category',values=['product_amount','transaction_fee','cashback','loyalty_points'],aggfunc='sum').sort_values(by='product_amount',ascending=False) "
   ]
  },
  {
   "cell_type": "code",
   "execution_count": 21,
   "metadata": {},
   "outputs": [
    {
     "data": {
      "image/png": "[encoded data removed]",
      "text/plain": [
       "<Figure size 640x480 with 1 Axes>"
      ]
     },
     "metadata": {},
     "output_type": "display_data"
    }
   ],
   "source": [
    "transaction[transaction['product_category']=='Streaming Service']['product_name'].value_counts().sort_values(ascending=False).plot(kind='bar',color='skyblue')  \n",
    "plt.xticks(rotation=45)\n",
    "plt.show()"
   ]
  },
  {
   "cell_type": "code",
   "execution_count": 22,
   "metadata": {},
   "outputs": [
    {
     "data": {
      "text/plain": [
       "<Axes: xlabel='product_name'>"
      ]
     },
     "execution_count": 22,
     "metadata": {},
     "output_type": "execute_result"
    },
    {
     "data": {
      "image/png": "[encoded data removed]",
      "text/plain": [
       "<Figure size 640x480 with 1 Axes>"
      ]
     },
     "metadata": {},
     "output_type": "display_data"
    }
   ],
   "source": [
    "transaction[transaction['product_category']=='Streaming Service'].groupby('product_name')['product_amount'].sum().sort_values(ascending=False).plot(kind='bar',color='skyblue')"
   ]
  },
  {
   "cell_type": "markdown",
   "metadata": {},
   "source": [
    "### Transaction Fee"
   ]
  },
  {
   "cell_type": "code",
   "execution_count": 23,
   "metadata": {},
   "outputs": [
    {
     "data": {
      "text/plain": [
       "<Axes: xlabel='product_category'>"
      ]
     },
     "execution_count": 23,
     "metadata": {},
     "output_type": "execute_result"
    },
    {
     "data": {
      "image/png": "[encoded data removed]",
      "text/plain": [
       "<Figure size 640x480 with 1 Axes>"
      ]
     },
     "metadata": {},
     "output_type": "display_data"
    }
   ],
   "source": [
    "transaction.groupby('product_category')['transaction_fee'].sum().sort_values(ascending=False).plot(kind='bar',color='skyblue')"
   ]
  },
  {
   "cell_type": "code",
   "execution_count": 24,
   "metadata": {},
   "outputs": [
    {
     "data": {
      "text/plain": [
       "product_name\n",
       "Python Programming Course    2106.96\n",
       "Basic Plan                   1978.55\n",
       "Commercial Property          1681.90\n",
       "MBA Entrance Prep            1661.84\n",
       "Standard Plan                1650.61\n",
       "Name: transaction_fee, dtype: float64"
      ]
     },
     "execution_count": 24,
     "metadata": {},
     "output_type": "execute_result"
    }
   ],
   "source": [
    "transaction.groupby('product_name')['transaction_fee'].sum().sort_values(ascending=False).head(5)"
   ]
  },
  {
   "cell_type": "markdown",
   "metadata": {},
   "source": [
    "### loyalty_points"
   ]
  },
  {
   "cell_type": "code",
   "execution_count": 25,
   "metadata": {},
   "outputs": [
    {
     "data": {
      "text/plain": [
       "<Axes: xlabel='product_category'>"
      ]
     },
     "execution_count": 25,
     "metadata": {},
     "output_type": "execute_result"
    },
    {
     "data": {
      "image/png": "[encoded data removed]",
      "text/plain": [
       "<Figure size 640x480 with 1 Axes>"
      ]
     },
     "metadata": {},
     "output_type": "display_data"
    }
   ],
   "source": [
    "transaction.groupby('product_category')['loyalty_points'].sum().sort_values(ascending=False).plot(kind='bar',color='skyblue')"
   ]
  },
  {
   "cell_type": "code",
   "execution_count": 26,
   "metadata": {},
   "outputs": [
    {
     "data": {
      "text/plain": [
       "product_name\n",
       "Python Programming Course    35783\n",
       "Standard Plan                34567\n",
       "Basic Plan                   33708\n",
       "Vegetable Biryani            31817\n",
       "Student Offer                31743\n",
       "Name: loyalty_points, dtype: int64"
      ]
     },
     "execution_count": 26,
     "metadata": {},
     "output_type": "execute_result"
    }
   ],
   "source": [
    "transaction.groupby('product_name')['loyalty_points'].sum().sort_values(ascending=False).head(5)"
   ]
  },
  {
   "cell_type": "code",
   "execution_count": 27,
   "metadata": {},
   "outputs": [
    {
     "data": {
      "text/plain": [
       "product_name\n",
       "Rs. 1000 Shopping Voucher    16372\n",
       "Outstation Trip              17039\n",
       "Domestic LPG Cylinder        17797\n",
       "Steel Toe Shoes              18586\n",
       "Premium Skin                 19003\n",
       "Name: loyalty_points, dtype: int64"
      ]
     },
     "execution_count": 27,
     "metadata": {},
     "output_type": "execute_result"
    }
   ],
   "source": [
    "transaction.groupby('product_name')['loyalty_points'].sum().sort_values(ascending=True).head(5)"
   ]
  },
  {
   "cell_type": "markdown",
   "metadata": {},
   "source": [
    "### cashback"
   ]
  },
  {
   "cell_type": "code",
   "execution_count": 28,
   "metadata": {},
   "outputs": [
    {
     "data": {
      "text/plain": [
       "product_name\n",
       "Pune to Goa                 1788.68\n",
       "Term Life Policy            1910.52\n",
       "Pizza Margherita            1931.18\n",
       "Mixed Fruit Jam             1968.38\n",
       "Rs. 250 Coffee Shop Card    1972.92\n",
       "Name: cashback, dtype: float64"
      ]
     },
     "execution_count": 28,
     "metadata": {},
     "output_type": "execute_result"
    }
   ],
   "source": [
    "transaction.groupby('product_name')['cashback'].sum().sort_values(ascending=True).head(5)"
   ]
  },
  {
   "cell_type": "code",
   "execution_count": 29,
   "metadata": {},
   "outputs": [
    {
     "data": {
      "text/plain": [
       "product_name\n",
       "3 Idiots                     3396.59\n",
       "Vegetable Biryani            3592.30\n",
       "Basic Plan                   3638.88\n",
       "Standard Plan                3703.20\n",
       "Python Programming Course    3962.88\n",
       "Name: cashback, dtype: float64"
      ]
     },
     "execution_count": 29,
     "metadata": {},
     "output_type": "execute_result"
    }
   ],
   "source": [
    "transaction.groupby('product_name')['cashback'].sum().sort_values(ascending=True).tail(5)"
   ]
  },
  {
   "cell_type": "markdown",
   "metadata": {},
   "source": [
    "### payment_method"
   ]
  },
  {
   "cell_type": "code",
   "execution_count": 30,
   "metadata": {},
   "outputs": [
    {
     "data": {
      "text/plain": [
       "payment_method  product_category \n",
       "Debit Card      Flight Booking       39\n",
       "                Insurance Premium    39\n",
       "Wallet Balance  Gift Card            38\n",
       "Debit Card      Taxi Fare            37\n",
       "Bank Transfer   Mobile Recharge      31\n",
       "Name: count, dtype: int64"
      ]
     },
     "execution_count": 30,
     "metadata": {},
     "output_type": "execute_result"
    }
   ],
   "source": [
    "transaction.groupby('payment_method')['product_category'].value_counts().sort_values(ascending=False).tail(5)"
   ]
  },
  {
   "cell_type": "markdown",
   "metadata": {},
   "source": [
    "### Location"
   ]
  },
  {
   "cell_type": "code",
   "execution_count": 31,
   "metadata": {},
   "outputs": [
    {
     "data": {
      "text/plain": [
       "location  product_category \n",
       "Urban     Streaming Service    204\n",
       "          Education Fee        200\n",
       "          Movie Ticket         190\n",
       "          Water Bill           188\n",
       "          Hotel Booking        187\n",
       "          Mobile Recharge      182\n",
       "          Electricity Bill     181\n",
       "          Food Delivery        180\n",
       "          Gas Bill             177\n",
       "          Grocery Shopping     174\n",
       "Name: count, dtype: int64"
      ]
     },
     "execution_count": 31,
     "metadata": {},
     "output_type": "execute_result"
    }
   ],
   "source": [
    "transaction.groupby('location')['product_category'].value_counts().sort_values(ascending=False).head(10)"
   ]
  },
  {
   "cell_type": "code",
   "execution_count": 32,
   "metadata": {},
   "outputs": [
    {
     "data": {
      "text/plain": [
       "location  product_category\n",
       "Rural     Electricity Bill    22\n",
       "          Gaming Credits      22\n",
       "          Gas Bill            21\n",
       "          Mobile Recharge     21\n",
       "          Grocery Shopping    21\n",
       "          Water Bill          21\n",
       "          Online Shopping     20\n",
       "          Bus Ticket          20\n",
       "          Internet Bill       20\n",
       "          Food Delivery       20\n",
       "Name: count, dtype: int64"
      ]
     },
     "execution_count": 32,
     "metadata": {},
     "output_type": "execute_result"
    }
   ],
   "source": [
    "transaction.groupby('location')['product_category'].value_counts().sort_values(ascending=False).tail(10)"
   ]
  },
  {
   "cell_type": "markdown",
   "metadata": {},
   "source": [
    "### transaction_status"
   ]
  },
  {
   "cell_type": "code",
   "execution_count": 33,
   "metadata": {},
   "outputs": [
    {
     "data": {
      "text/html": [
       "<div>\n",
       "<style scoped>\n",
       "    .dataframe tbody tr th:only-of-type {\n",
       "        vertical-align: middle;\n",
       "    }\n",
       "\n",
       "    .dataframe tbody tr th {\n",
       "        vertical-align: top;\n",
       "    }\n",
       "\n",
       "    .dataframe thead th {\n",
       "        text-align: right;\n",
       "    }\n",
       "</style>\n",
       "<table border=\"1\" class=\"dataframe\">\n",
       "  <thead>\n",
       "    <tr style=\"text-align: right;\">\n",
       "      <th>transaction_status</th>\n",
       "      <th>Failed</th>\n",
       "      <th>Pending</th>\n",
       "      <th>Successful</th>\n",
       "    </tr>\n",
       "    <tr>\n",
       "      <th>product_category</th>\n",
       "      <th></th>\n",
       "      <th></th>\n",
       "      <th></th>\n",
       "    </tr>\n",
       "  </thead>\n",
       "  <tbody>\n",
       "    <tr>\n",
       "      <th>Bus Ticket</th>\n",
       "      <td>5.0</td>\n",
       "      <td>3.0</td>\n",
       "      <td>227.0</td>\n",
       "    </tr>\n",
       "    <tr>\n",
       "      <th>Education Fee</th>\n",
       "      <td>10.0</td>\n",
       "      <td>NaN</td>\n",
       "      <td>276.0</td>\n",
       "    </tr>\n",
       "    <tr>\n",
       "      <th>Electricity Bill</th>\n",
       "      <td>10.0</td>\n",
       "      <td>2.0</td>\n",
       "      <td>240.0</td>\n",
       "    </tr>\n",
       "    <tr>\n",
       "      <th>Flight Booking</th>\n",
       "      <td>6.0</td>\n",
       "      <td>3.0</td>\n",
       "      <td>207.0</td>\n",
       "    </tr>\n",
       "    <tr>\n",
       "      <th>Food Delivery</th>\n",
       "      <td>6.0</td>\n",
       "      <td>4.0</td>\n",
       "      <td>249.0</td>\n",
       "    </tr>\n",
       "    <tr>\n",
       "      <th>Gaming Credits</th>\n",
       "      <td>11.0</td>\n",
       "      <td>6.0</td>\n",
       "      <td>214.0</td>\n",
       "    </tr>\n",
       "    <tr>\n",
       "      <th>Gas Bill</th>\n",
       "      <td>5.0</td>\n",
       "      <td>6.0</td>\n",
       "      <td>239.0</td>\n",
       "    </tr>\n",
       "    <tr>\n",
       "      <th>Gift Card</th>\n",
       "      <td>5.0</td>\n",
       "      <td>8.0</td>\n",
       "      <td>208.0</td>\n",
       "    </tr>\n",
       "    <tr>\n",
       "      <th>Grocery Shopping</th>\n",
       "      <td>9.0</td>\n",
       "      <td>6.0</td>\n",
       "      <td>223.0</td>\n",
       "    </tr>\n",
       "    <tr>\n",
       "      <th>Hotel Booking</th>\n",
       "      <td>4.0</td>\n",
       "      <td>9.0</td>\n",
       "      <td>261.0</td>\n",
       "    </tr>\n",
       "    <tr>\n",
       "      <th>Insurance Premium</th>\n",
       "      <td>5.0</td>\n",
       "      <td>1.0</td>\n",
       "      <td>219.0</td>\n",
       "    </tr>\n",
       "    <tr>\n",
       "      <th>Internet Bill</th>\n",
       "      <td>10.0</td>\n",
       "      <td>7.0</td>\n",
       "      <td>216.0</td>\n",
       "    </tr>\n",
       "    <tr>\n",
       "      <th>Loan Repayment</th>\n",
       "      <td>7.0</td>\n",
       "      <td>10.0</td>\n",
       "      <td>228.0</td>\n",
       "    </tr>\n",
       "    <tr>\n",
       "      <th>Mobile Recharge</th>\n",
       "      <td>4.0</td>\n",
       "      <td>5.0</td>\n",
       "      <td>232.0</td>\n",
       "    </tr>\n",
       "    <tr>\n",
       "      <th>Movie Ticket</th>\n",
       "      <td>8.0</td>\n",
       "      <td>7.0</td>\n",
       "      <td>257.0</td>\n",
       "    </tr>\n",
       "    <tr>\n",
       "      <th>Online Shopping</th>\n",
       "      <td>11.0</td>\n",
       "      <td>4.0</td>\n",
       "      <td>228.0</td>\n",
       "    </tr>\n",
       "    <tr>\n",
       "      <th>Rent Payment</th>\n",
       "      <td>9.0</td>\n",
       "      <td>3.0</td>\n",
       "      <td>239.0</td>\n",
       "    </tr>\n",
       "    <tr>\n",
       "      <th>Streaming Service</th>\n",
       "      <td>8.0</td>\n",
       "      <td>6.0</td>\n",
       "      <td>285.0</td>\n",
       "    </tr>\n",
       "    <tr>\n",
       "      <th>Taxi Fare</th>\n",
       "      <td>7.0</td>\n",
       "      <td>5.0</td>\n",
       "      <td>244.0</td>\n",
       "    </tr>\n",
       "    <tr>\n",
       "      <th>Water Bill</th>\n",
       "      <td>6.0</td>\n",
       "      <td>4.0</td>\n",
       "      <td>263.0</td>\n",
       "    </tr>\n",
       "  </tbody>\n",
       "</table>\n",
       "</div>"
      ],
      "text/plain": [
       "transaction_status  Failed  Pending  Successful\n",
       "product_category                               \n",
       "Bus Ticket             5.0      3.0       227.0\n",
       "Education Fee         10.0      NaN       276.0\n",
       "Electricity Bill      10.0      2.0       240.0\n",
       "Flight Booking         6.0      3.0       207.0\n",
       "Food Delivery          6.0      4.0       249.0\n",
       "Gaming Credits        11.0      6.0       214.0\n",
       "Gas Bill               5.0      6.0       239.0\n",
       "Gift Card              5.0      8.0       208.0\n",
       "Grocery Shopping       9.0      6.0       223.0\n",
       "Hotel Booking          4.0      9.0       261.0\n",
       "Insurance Premium      5.0      1.0       219.0\n",
       "Internet Bill         10.0      7.0       216.0\n",
       "Loan Repayment         7.0     10.0       228.0\n",
       "Mobile Recharge        4.0      5.0       232.0\n",
       "Movie Ticket           8.0      7.0       257.0\n",
       "Online Shopping       11.0      4.0       228.0\n",
       "Rent Payment           9.0      3.0       239.0\n",
       "Streaming Service      8.0      6.0       285.0\n",
       "Taxi Fare              7.0      5.0       244.0\n",
       "Water Bill             6.0      4.0       263.0"
      ]
     },
     "execution_count": 33,
     "metadata": {},
     "output_type": "execute_result"
    }
   ],
   "source": [
    "pd.pivot_table(transaction,index='product_category',columns='transaction_status',values='transaction_id',aggfunc='count')"
   ]
  },
  {
   "cell_type": "code",
   "execution_count": 34,
   "metadata": {},
   "outputs": [
    {
     "data": {
      "text/plain": [
       "Index(['transaction_id', 'user_id', 'transaction_date', 'product_category',\n",
       "       'product_name', 'merchant_name', 'product_amount', 'transaction_fee',\n",
       "       'cashback', 'loyalty_points', 'payment_method', 'transaction_status',\n",
       "       'merchant_id', 'device_type', 'location', 'date', 'time'],\n",
       "      dtype='object')"
      ]
     },
     "execution_count": 34,
     "metadata": {},
     "output_type": "execute_result"
    }
   ],
   "source": [
    "transaction.columns"
   ]
  },
  {
   "cell_type": "markdown",
   "metadata": {},
   "source": [
    "## Merchant"
   ]
  },
  {
   "cell_type": "code",
   "execution_count": 35,
   "metadata": {},
   "outputs": [
    {
     "data": {
      "text/plain": [
       "merchant_name\n",
       "Airbnb        106\n",
       "Flipkart      102\n",
       "MakeMyTrip     85\n",
       "Netflix        72\n",
       "Unacademy      69\n",
       "Name: transaction_id, dtype: int64"
      ]
     },
     "execution_count": 35,
     "metadata": {},
     "output_type": "execute_result"
    }
   ],
   "source": [
    "transaction.groupby('merchant_name')['transaction_id'].count().sort_values(ascending=False).head(5)"
   ]
  },
  {
   "cell_type": "code",
   "execution_count": 36,
   "metadata": {},
   "outputs": [
    {
     "data": {
      "text/plain": [
       "merchant_name\n",
       "Airbnb                    550248.40\n",
       "Flipkart                  458472.89\n",
       "MakeMyTrip                438496.77\n",
       "Bangalore Water Supply    337482.55\n",
       "Netflix                   335355.47\n",
       "Name: product_amount, dtype: float64"
      ]
     },
     "execution_count": 36,
     "metadata": {},
     "output_type": "execute_result"
    }
   ],
   "source": [
    "transaction.groupby('merchant_name')['product_amount'].sum().sort_values(ascending=False).head(5)"
   ]
  },
  {
   "cell_type": "code",
   "execution_count": 37,
   "metadata": {},
   "outputs": [
    {
     "data": {
      "text/plain": [
       "merchant_name\n",
       "Minecraft           186546.32\n",
       "Amazon Pantry       186534.34\n",
       "Lifestyle           160096.95\n",
       "Vodafone            159355.56\n",
       "ICICI Prudential    140740.26\n",
       "Name: product_amount, dtype: float64"
      ]
     },
     "execution_count": 37,
     "metadata": {},
     "output_type": "execute_result"
    }
   ],
   "source": [
    "transaction.groupby('merchant_name')['product_amount'].sum().sort_values(ascending=False).tail(5)"
   ]
  },
  {
   "cell_type": "code",
   "execution_count": 38,
   "metadata": {},
   "outputs": [
    {
     "data": {
      "text/plain": [
       "Index(['transaction_id', 'user_id', 'transaction_date', 'product_category',\n",
       "       'product_name', 'merchant_name', 'product_amount', 'transaction_fee',\n",
       "       'cashback', 'loyalty_points', 'payment_method', 'transaction_status',\n",
       "       'merchant_id', 'device_type', 'location', 'date', 'time'],\n",
       "      dtype='object')"
      ]
     },
     "execution_count": 38,
     "metadata": {},
     "output_type": "execute_result"
    }
   ],
   "source": [
    "transaction.columns"
   ]
  },
  {
   "cell_type": "code",
   "execution_count": 45,
   "metadata": {},
   "outputs": [
    {
     "data": {
      "text/plain": [
       "merchant_name\n",
       "Flipkart      2544.69\n",
       "Airbnb        2407.78\n",
       "MakeMyTrip    2002.84\n",
       "Netflix       1867.54\n",
       "Hotstar       1772.92\n",
       "Name: transaction_fee, dtype: float64"
      ]
     },
     "execution_count": 45,
     "metadata": {},
     "output_type": "execute_result"
    }
   ],
   "source": [
    "transaction.groupby('merchant_name')['transaction_fee'].sum().sort_values(ascending=False).head(5)"
   ]
  },
  {
   "cell_type": "code",
   "execution_count": 46,
   "metadata": {},
   "outputs": [
    {
     "data": {
      "text/plain": [
       "merchant_name\n",
       "PVR Cinemas    916.47\n",
       "RedBus         899.37\n",
       "Zomato         837.99\n",
       "Vodafone       773.21\n",
       "HDFC Life      767.41\n",
       "Name: transaction_fee, dtype: float64"
      ]
     },
     "execution_count": 46,
     "metadata": {},
     "output_type": "execute_result"
    }
   ],
   "source": [
    "transaction.groupby('merchant_name')['transaction_fee'].sum().sort_values(ascending=False).tail(5)"
   ]
  },
  {
   "cell_type": "code",
   "execution_count": null,
   "metadata": {},
   "outputs": [],
   "source": []
  }
 ],
 "metadata": {
  "kernelspec": {
   "display_name": "Python 3",
   "language": "python",
   "name": "python3"
  },
  "language_info": {
   "codemirror_mode": {
    "name": "ipython",
    "version": 3
   },
   "file_extension": ".py",
   "mimetype": "text/x-python",
   "name": "python",
   "nbconvert_exporter": "python",
   "pygments_lexer": "ipython3",
   "version": "3.11.1"
  }
 },
 "nbformat": 4,
 "nbformat_minor": 2
}
